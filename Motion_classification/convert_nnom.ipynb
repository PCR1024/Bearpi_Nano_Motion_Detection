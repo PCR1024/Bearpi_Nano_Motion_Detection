{
 "cells": [
  {
   "cell_type": "code",
   "execution_count": null,
   "metadata": {},
   "outputs": [],
   "source": [
    "from nnom import *\n",
    "from tensorflow.keras.models import load_model\n",
    "save_model_name = \"best_model_1\"\n",
    "L_model = load_model(save_model_name + \".keras\")\n",
    "\n",
    "loss, accuracy = L_model.evaluate(X_test, y_test)\n",
    "# 假设generate_model函数已经定义在nnom模块中\n",
    "generate_model(L_model, X_test, name = save_model_name + \".h\")\n"
   ]
  }
 ],
 "metadata": {
  "kernelspec": {
   "display_name": "nnom_env",
   "language": "python",
   "name": "python3"
  },
  "language_info": {
   "name": "python",
   "version": "3.9.20"
  }
 },
 "nbformat": 4,
 "nbformat_minor": 2
}
